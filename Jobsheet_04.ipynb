{
  "nbformat": 4,
  "nbformat_minor": 0,
  "metadata": {
    "colab": {
      "provenance": [],
      "name": "Jobsheet_04.ipynb",
      "authorship_tag": "ABX9TyPVoTV0/gtrj4dxrAyqD/Gj",
      "include_colab_link": true
    },
    "kernelspec": {
      "name": "python3",
      "display_name": "Python 3"
    },
    "language_info": {
      "name": "python"
    }
  },
  "cells": [
    {
      "cell_type": "markdown",
      "metadata": {
        "id": "view-in-github",
        "colab_type": "text"
      },
      "source": [
        "<a href=\"https://colab.research.google.com/github/izza1224/2025_PBO_TI-1C/blob/main/Jobsheet_04.ipynb\" target=\"_parent\"><img src=\"https://colab.research.google.com/assets/colab-badge.svg\" alt=\"Open In Colab\"/></a>"
      ]
    },
    {
      "cell_type": "markdown",
      "source": [
        "**JOBSHEET 04: MEMAHAMI PEWARISAN (INHERITANCE) DALAM PYTHON**\n"
      ],
      "metadata": {
        "id": "DCuKNcp2fZsU"
      }
    },
    {
      "cell_type": "markdown",
      "source": [
        "Praktikum 01: Indikator Dasar"
      ],
      "metadata": {
        "id": "uwGlFomVfYdL"
      }
    },
    {
      "cell_type": "code",
      "execution_count": null,
      "metadata": {
        "id": "ujeVb5GWcdPV",
        "outputId": "f4f05d7a-42f0-42c2-82ab-4fac1047c7e9",
        "colab": {
          "base_uri": "https://localhost:8080/"
        }
      },
      "outputs": [
        {
          "output_type": "stream",
          "name": "stdout",
          "text": [
            "Ini adalah mobil Tesla Model S berwarna Merah.\n",
            "Mesin kendaraan Tesla Model S dinyalakan.\n",
            "Merk mobil: Tesla Model S\n"
          ]
        }
      ],
      "source": [
        "# Kelas Induk\n",
        "class Kendaraan:\n",
        "    def __init__(self, merk):\n",
        "       self.merk = merk\n",
        "    def mulai_mesin(self):\n",
        "        print(f\"Mesin kendaraan {self.merk} dinyalakan.\")\n",
        "\n",
        "# Kelas Anak (mewarisi dari kendaraan)\n",
        "class Mobil (Kendaraan):\n",
        "    def __init__(self, merk, warna):\n",
        "       # Memanggil __init__kelas induk (akan dibahas dipraktikum 2)\n",
        "       # Untuk sekarang, kita set merk secara manual\n",
        "       self.merk = merk # Mewarisi 'merk' tapi di-set ulang di sini\n",
        "       self.warna = warna # Atribut khusus mobil\n",
        "\n",
        "    def info_mobil(self):\n",
        "        print(f\"Ini adalah mobil {self.merk} berwarna {self.warna}.\")\n",
        "\n",
        "# ---Kode Utama---\n",
        "if __name__ == \"__main__\":\n",
        "    mobil_tesla = Mobil(\"Tesla Model S\",\"Merah\")\n",
        "\n",
        "    # Memanggil metode dari kelas anak\n",
        "    mobil_tesla.info_mobil()\n",
        "\n",
        "    # Memanggil metode yang diwarisi dari kelas induk\n",
        "    mobil_tesla.mulai_mesin()\n",
        "\n",
        "    # Mengakses atribut yang diwarisi (dan di-set di anak)\n",
        "    print(f\"Merk mobil: {mobil_tesla.merk}\")\n",
        "\n",
        "\n"
      ]
    },
    {
      "cell_type": "markdown",
      "source": [
        "Praktikum 02: Menggunakan super()dalam konstruktor"
      ],
      "metadata": {
        "id": "2xbT2sZ2mtp4"
      }
    },
    {
      "cell_type": "code",
      "source": [
        "# Kelas Induk\n",
        "class Person:\n",
        "    def __init__(self, nama, usia):\n",
        "        print(f\"(Memanggil __init__ Person untuk '{nama}')\")\n",
        "        self.nama = nama\n",
        "        self.usia = usia\n",
        "\n",
        "    def perkenalkan_diri(self):\n",
        "        print(f\"Halo, nama saya {self.nama}, usia saya {self.usia}tahun.\")\n",
        "\n",
        "# Kelas Anak (mewarisi dari person)\n",
        "class student(Person):\n",
        "    def __init__(self, nama, usia, student_id, jurusan):\n",
        "        print (f\"(Memanggil __init__Student untuk '{nama}')\")\n",
        "        # Memanggil __init__ dari kelas person untuk inisialisasi nama dan usia\n",
        "        super().__init__(nama, usia)\n",
        "        # Menambah atribut khusus student\n",
        "        self.student_id = student_id\n",
        "        self.jurusan = jurusan\n",
        "        print(f\"(Inisialisasi atribut student selesai untuk '{nama}')\")\n",
        "\n",
        "    def info_akademik(self):\n",
        "        print(f\"ID Mahasiswa: {self.student_id}\")\n",
        "        print(f\"Jurusan: {self.jurusan}\")\n",
        "\n",
        "    # Override perkenalkan_diri(self):\n",
        "    def perkenalkan_diri(self):\n",
        "        super().perkenalkan_diri() # Panggil versi person\n",
        "        print(f\"Saya adalah mahasiswa dengan ID {self.student_id}, jurusan {self.jurusan}.\")\n",
        "\n",
        "# --- Kode utama ---\n",
        "if __name__ == \"__main__\":\n",
        "    # membuat objek person\n",
        "    dosen = Person(\"Pak anton\", 45)\n",
        "    print(\"_\" * 20)\n",
        "    dosen.perkenalkan_diri()\n",
        "    print(\"\\n\" + \"=\" * 30 + \"\\n\")\n",
        "\n",
        "    # Membuat objek student\n",
        "    mahasiswa = student(\"Dewi\", 20, \"MHS001\", \"Teknik komputer\")\n",
        "    print(\"_\" * 20)\n",
        "    mahasiswa.perkenalkan_diri() # panggil versi override di student\n",
        "    print(\"_\" * 20)\n",
        "    mahasiswa.info_akademik() # panggil metode khusus student\n",
        "\n",
        "    # Cek atribut yang diwarisi\n",
        "    print(f\"\\nUsia mahasiswa {mahasiswa.nama}: {mahasiswa.usia}\") # usia diwarisi dari person"
      ],
      "metadata": {
        "id": "0TYn93Itm3RE",
        "outputId": "e3f13eb0-c32a-4fa1-b53b-31e77f29bedf",
        "colab": {
          "base_uri": "https://localhost:8080/"
        }
      },
      "execution_count": null,
      "outputs": [
        {
          "output_type": "stream",
          "name": "stdout",
          "text": [
            "(Memanggil __init__ Person untuk 'Pak anton')\n",
            "____________________\n",
            "Halo, nama saya Pak anton, usia saya 45tahun.\n",
            "\n",
            "==============================\n",
            "\n",
            "(Memanggil __init__Student untuk 'Dewi')\n",
            "(Memanggil __init__ Person untuk 'Dewi')\n",
            "(Inisialisasi atribut student selesai untuk 'Dewi')\n",
            "____________________\n",
            "Halo, nama saya Dewi, usia saya 20tahun.\n",
            "Saya adalah mahasiswa dengan ID MHS001, jurusan Teknik komputer.\n",
            "____________________\n",
            "ID Mahasiswa: MHS001\n",
            "Jurusan: Teknik komputer\n",
            "\n",
            "Usia mahasiswa Dewi: 20\n"
          ]
        }
      ]
    },
    {
      "cell_type": "markdown",
      "source": [
        "Praktikum 03: Method Ovrriding dan super()\n"
      ],
      "metadata": {
        "id": "AxOBjbcswVjj"
      }
    },
    {
      "cell_type": "code",
      "source": [
        "# Kelas Hewan\n",
        "class Hewan:\n",
        "    def __init__(self, nama):\n",
        "        self.nama = nama\n",
        "\n",
        "    def bersuara(self):\n",
        "        print(f\"{self.nama} mengeluarkan suara generik.\")\n",
        "\n",
        "    def tampilkan_info(self):\n",
        "        print(f\"Ini adalah hewan bernama {self.nama}.\")\n",
        "\n",
        " # Kelas Anak\n",
        "class Kucing(Hewan):\n",
        "    def __init__(self, nama, ras):\n",
        "          super().__init__(nama) # Panggil init induk\n",
        "          self.ras = ras\n",
        "\n",
        "      # Method Overriding untuk bersuara\n",
        "    def bersuara(self):\n",
        "          print(f\"{self.nama} (kucing) mengeong: Meow!\")\n",
        "\n",
        "       # Method Overriding untuk tampilkan_info, memanggil versi induk\n",
        "    def tampilkan_info(self):\n",
        "           super().tampilkan_info() # Panggil implementasi dari hewan\n",
        "           print(f\"Ini adalah kucing ras {self.ras}.\") # Tambahan info spesifik\n",
        "\n",
        "# --- Kode utama ---\n",
        "if __name__ == \"__main__\":\n",
        "   hewan_umum = Hewan(\"Makhluk\")\n",
        "   kucing_persia = Kucing(\"Puspus\", \"Persia\")\n",
        "\n",
        "   print(\"Info hewan umum:\")\n",
        "   hewan_umum.tampilkan_info()\n",
        "   hewan_umum.bersuara()\n",
        "   print(\"_\" * 20)\n",
        "\n",
        "   print(\"info Kucing Persia:\")\n",
        "   kucing_persia.tampilkan_info() # Akan memanggil versi kucing\n",
        "   kucing_persia.bersuara() # Akan memanggil versi kucing\n"
      ],
      "metadata": {
        "id": "2S3FsM8Yw_D7",
        "outputId": "44bd1fe4-e68b-4e28-fca7-6a1a695413fa",
        "colab": {
          "base_uri": "https://localhost:8080/"
        }
      },
      "execution_count": null,
      "outputs": [
        {
          "output_type": "stream",
          "name": "stdout",
          "text": [
            "Info hewan umum:\n",
            "Ini adalah hewan bernama Makhluk.\n",
            "Makhluk mengeluarkan suara generik.\n",
            "____________________\n",
            "info Kucing Persia:\n",
            "Ini adalah hewan bernama Puspus.\n",
            "Ini adalah kucing ras Persia.\n",
            "Puspus (kucing) mengeong: Meow!\n"
          ]
        }
      ]
    },
    {
      "cell_type": "markdown",
      "source": [
        "Praktikum 04: Multi-level Inheritance(Pewaris Bertingkat)"
      ],
      "metadata": {
        "id": "BUlI5Ihq5XAY"
      }
    },
    {
      "cell_type": "code",
      "source": [
        "# Kelas Induk Lvel 1\n",
        "class Organisme:\n",
        "    def __init__(self, nama):\n",
        "        self.nama = nama\n",
        "        print(f\"Organisme '(self.nama)' diciptakan.\")\n",
        "\n",
        "    def bernapas(self):\n",
        "        print (f\"{self.nama} sedang bernapas.\")\n",
        "\n",
        "# Kelas anak level 1 (mewarisi dari Organisme)\n",
        "class Hewan(Organisme):\n",
        "    def __init__(self, nama, jenis_makanan):\n",
        "        super().__init__(nama) # panggil init organisme\n",
        "        self.jenis_makanan = jenis_makanan\n",
        "        print(f\"Hewan '{self.nama}' adalah {self.jenis_makanan}.\")\n",
        "\n",
        "    def bergerak(self):\n",
        "        print(f\"{self.nama} sedang bergerak.\")\n",
        "\n",
        "# Kelas anak level 2 (mewarisi dari hewan)\n",
        "class Mamalia(Hewan):\n",
        "    def __init__(self, nama, jenis_makanan, jumlah_kaki):\n",
        "        super().__init__(nama, jenis_makanan) # panggil init hewan\n",
        "        self.jumlah_kaki = jumlah_kaki\n",
        "        print(f\"Mamalia '{self.nama}' memiliki {self.jumlah_kaki} kaki.\")\n",
        "\n",
        "    def menyusui(self):\n",
        "        print(f\"{self.nama} sedang menyusui.\")\n",
        "\n",
        "# ---- Kode Utama ---\n",
        "if __name__ == \"__main__\":\n",
        "    kucing = Mamalia(\"Kucing Persia\", \"Karnivora\", 4)\n",
        "    print(\"_\" * 20)\n",
        "\n",
        "    # memanggil metode dari kelas mamalia\n",
        "    kucing.menyusui()\n",
        "\n",
        "    # memanggil metode yang diwarisi dari kelas hewan\n",
        "    kucing.bergerak()\n",
        "    print(f\"Jenis makanan: {kucing.jenis_makanan}\")\n",
        "\n",
        "    # memanggil metode yang diwarisi dari kelas organisme\n",
        "    kucing.bernapas()\n",
        "    print(f\"Nama organisme: {kucing.nama}\")"
      ],
      "metadata": {
        "id": "hZjrubAF5waU",
        "colab": {
          "base_uri": "https://localhost:8080/"
        },
        "outputId": "e5704e7f-c0af-4e09-8912-53b3fcd7fc6d"
      },
      "execution_count": null,
      "outputs": [
        {
          "output_type": "stream",
          "name": "stdout",
          "text": [
            "Organisme '(self.nama)' diciptakan.\n",
            "Hewan 'Kucing Persia' adalah Karnivora.\n",
            "Mamalia 'Kucing Persia' memiliki 4 kaki.\n",
            "____________________\n",
            "Kucing Persia sedang menyusui.\n",
            "Kucing Persia sedang bergerak.\n",
            "Jenis makanan: Karnivora\n",
            "Kucing Persia sedang bernapas.\n",
            "Nama organisme: Kucing Persia\n"
          ]
        }
      ]
    },
    {
      "cell_type": "markdown",
      "source": [
        "Praktikum 05: Hierarchical Inheritance"
      ],
      "metadata": {
        "id": "q9ZiUFe2wMtg"
      }
    },
    {
      "cell_type": "code",
      "source": [
        "!apt-get install -y locales\n",
        "!locale-gen id_ID.UTF-8\n",
        "!update-locale"
      ],
      "metadata": {
        "colab": {
          "base_uri": "https://localhost:8080/"
        },
        "id": "MDiaPMzLwXO-",
        "outputId": "be89229b-03b0-4a86-eb9f-22b001cc67a5"
      },
      "execution_count": null,
      "outputs": [
        {
          "output_type": "stream",
          "name": "stdout",
          "text": [
            "Reading package lists... Done\n",
            "Building dependency tree... Done\n",
            "Reading state information... Done\n",
            "locales is already the newest version (2.35-0ubuntu3.9).\n",
            "0 upgraded, 0 newly installed, 0 to remove and 34 not upgraded.\n",
            "Generating locales (this might take a while)...\n",
            "  id_ID.UTF-8... done\n",
            "Generation complete.\n"
          ]
        }
      ]
    },
    {
      "cell_type": "code",
      "source": [
        "import locale\n",
        "\n",
        "# Set locale ke Indonesia untuk format mata uang\n",
        "try:\n",
        "    locale.setlocale(locale.LC_ALL, 'id_ID.UTF-8')\n",
        "except locale.Error:\n",
        "    print(\"Locale id_ID.UTF-8 tidak tersedia, menggunakan locale default\")\n",
        "\n",
        "# Fungsi helper untuk format mata uang\n",
        "def format_rupiah(angka):\n",
        "    try:\n",
        "        return locale.currency(angka, grouping=True, symbol='Rp ')\n",
        "    except Exception:\n",
        "        # Jika gagal, format manual\n",
        "        return f\"Rp {angka:,.0f}\".replace(\",\", \".\")\n",
        "\n",
        "# Kelas Induk\n",
        "class Pegawai:\n",
        "    def __init__(self, nama, id_pegawai, gaji_pokok):\n",
        "        self.nama = nama\n",
        "        self.id_pegawai = id_pegawai\n",
        "        self.gaji_pokok = gaji_pokok\n",
        "\n",
        "    def hitung_gaji(self):\n",
        "        # Gaji dasar, bisa di-override\n",
        "        return self.gaji_pokok\n",
        "\n",
        "    def tampilkan_info(self):\n",
        "        print(f\"ID: {self.id_pegawai}, Nama: {self.nama}\")\n",
        "        print(f\" Gaji Pokok: {format_rupiah(self.gaji_pokok)}\")\n",
        "\n",
        "# Kelas Anak 1\n",
        "class Manager(Pegawai):\n",
        "    def __init__(self, nama, id_pegawai, gaji_pokok, tunjangan_jabatan):\n",
        "        super().__init__(nama, id_pegawai, gaji_pokok)\n",
        "        self.tunjangan_jabatan = tunjangan_jabatan\n",
        "\n",
        "    # Override hitung_gaji\n",
        "    def hitung_gaji(self):\n",
        "        gaji_total = super().hitung_gaji() + self.tunjangan_jabatan\n",
        "        return gaji_total\n",
        "\n",
        "    # Override tampilkan_info (memanggil versi induk)\n",
        "    def tampilkan_info(self):\n",
        "        print(\"--- Info Manager ---\")\n",
        "        super().tampilkan_info()  # panggil info dasar dari pegawai\n",
        "        print(f\" Tunjangan Jabatan: {format_rupiah(self.tunjangan_jabatan)}\")\n",
        "        print(f\" Total Gaji: {format_rupiah(self.hitung_gaji())}\")\n",
        "\n",
        "# Kelas Anak 2\n",
        "class StafTeknis(Pegawai):\n",
        "    def __init__(self, nama, id_pegawai, gaji_pokok, keahlian, bonus_keahlian):\n",
        "        super().__init__(nama, id_pegawai, gaji_pokok)\n",
        "        self.keahlian = keahlian\n",
        "        self.bonus_keahlian = bonus_keahlian\n",
        "\n",
        "    # Override hitung_gaji\n",
        "    def hitung_gaji(self):\n",
        "        gaji_total = super().hitung_gaji() + self.bonus_keahlian\n",
        "        return gaji_total\n",
        "\n",
        "    # Override tampilkan_info (memanggil versi induk)\n",
        "    def tampilkan_info(self):\n",
        "        print(\"--- Info Staf Teknis ---\")\n",
        "        super().tampilkan_info()  # panggil info dasar dari pegawai\n",
        "        print(f\" Keahlian: {self.keahlian}\")\n",
        "        print(f\" Bonus Keahlian: {format_rupiah(self.bonus_keahlian)}\")\n",
        "        print(f\" Total Gaji: {format_rupiah(self.hitung_gaji())}\")\n",
        "\n",
        "# --- Kode Utama ---\n",
        "if __name__ == \"__main__\":\n",
        "    manager1 = Manager(\"Budi Santoso\", \"M001\", 10000000, 5000000)\n",
        "    staf1 = StafTeknis(\"Citra Lestari\", \"S001\", 7000000, \"Python Programming\", 1500000)\n",
        "    pegawai_baru = Pegawai(\"Rian\", \"P005\", 5000000)  # Pegawai biasa\n",
        "\n",
        "    print(\"Menampilkan Informasi Pegawai:\")\n",
        "    manager1.tampilkan_info()\n",
        "    print(\"_\" * 30)\n",
        "    staf1.tampilkan_info()\n",
        "    print(\"_\" * 30)\n",
        "\n",
        "    print(\"--- Info Pegawai Baru ---\")\n",
        "    pegawai_baru.tampilkan_info()\n",
        "    print(f\" Total Gaji: {format_rupiah(pegawai_baru.hitung_gaji())}\")\n",
        "\n",
        "# Memanggil versi pegawai\n",
        "    print(\"_\" * 30)\n"
      ],
      "metadata": {
        "colab": {
          "base_uri": "https://localhost:8080/"
        },
        "id": "VwuuVRRMyKzm",
        "outputId": "b0a95204-f8a8-4262-9eb6-5c39bf8474de"
      },
      "execution_count": null,
      "outputs": [
        {
          "output_type": "stream",
          "name": "stdout",
          "text": [
            "Locale id_ID.UTF-8 tidak tersedia, menggunakan locale default\n",
            "Menampilkan Informasi Pegawai:\n",
            "--- Info Manager ---\n",
            "ID: M001, Nama: Budi Santoso\n",
            " Gaji Pokok: Rp 10.000.000\n",
            " Tunjangan Jabatan: Rp 5.000.000\n",
            " Total Gaji: Rp 15.000.000\n",
            "______________________________\n",
            "--- Info Staf Teknis ---\n",
            "ID: S001, Nama: Citra Lestari\n",
            " Gaji Pokok: Rp 7.000.000\n",
            " Keahlian: Python Programming\n",
            " Bonus Keahlian: Rp 1.500.000\n",
            " Total Gaji: Rp 8.500.000\n",
            "______________________________\n",
            "--- Info Pegawai Baru ---\n",
            "ID: P005, Nama: Rian\n",
            " Gaji Pokok: Rp 5.000.000\n",
            " Total Gaji: Rp 5.000.000\n",
            "______________________________\n"
          ]
        }
      ]
    },
    {
      "cell_type": "markdown",
      "source": [
        "Praktikum 06: Memeriksa Tipe Instance dengan instance()\n"
      ],
      "metadata": {
        "id": "unWGYJW8SM9V"
      }
    },
    {
      "cell_type": "code",
      "source": [
        "class BentukGeometri:\n",
        "    def __init__(self, nama_bentuk):\n",
        "        self.nama = nama_bentuk\n",
        "    def tampilkan_nama(self):\n",
        "        print(f\"Ini adalah bentuk: {self.nama}\")\n",
        "    def hitung_luas(self):\n",
        "        print(f\"Luas {self.nama} tidak dapat dihitung (generik).\")\n",
        "\n",
        "class PersegiPanjang(BentukGeometri):\n",
        "    def __init__(self, panjang, lebar):\n",
        "        super().__init__(\"Persegi Panjang\")\n",
        "        self.panjang = panjang\n",
        "        self.lebar = lebar\n",
        "    def hitung_luas(self):\n",
        "        luas = self.panjang * self.lebar\n",
        "        print(f\"Luas {self.nama}: {luas}\")\n",
        "\n",
        "class Segitiga(BentukGeometri):\n",
        "    def __init__(self, alas, tinggi):\n",
        "        super().__init__(\"Segitiga\")\n",
        "        self.alas = alas\n",
        "        self.tinggi = tinggi\n",
        "    def hitung_luas(self):\n",
        "        luas = 0.5 * self.alas * self.tinggi\n",
        "        print(f\"Luas {self.nama}: {luas}\")\n",
        "\n",
        "def proses_bentuk(bentuk):\n",
        "    print(f\"\\nMemproses objek: {type(bentuk)}\")\n",
        "\n",
        "    if isinstance(bentuk, BentukGeometri):\n",
        "       bentuk.tampilkan_nama()\n",
        "       print(\"Objek ini adalah instance dari BentukGeometri (atau turunannya).\")\n",
        "       if isinstance(bentuk, PersegiPanjang):\n",
        "            print(\"-> Objek ini juga instance dari PersegiPanjang.\")\n",
        "       elif isinstance(bentuk, Segitiga):\n",
        "           print(\"-> Objek ini juga instance dari Segitiga\")\n",
        "\n",
        "       else:\n",
        "            print(\"Objek ini BUKAN instance dari BentukGeometri.\")\n",
        "\n",
        "       if isinstance(bentuk, str):\n",
        "            print(\"Objek ini adalah string.\")\n",
        "\n",
        "# --- Kode Utama ---\n",
        "if __name__ == \"__main__\":\n",
        "    pp = PersegiPanjang(4, 3)\n",
        "    seg = Segitiga(5, 2)\n",
        "    bg = BentukGeometri(\"Lingkaran\") # contoh lain\n",
        "    teks = \"Ini string\"\n",
        "\n",
        "    daftar_objek = [pp, seg, bg, teks]\n",
        "\n",
        "    for obj in daftar_objek:\n",
        "        proses_bentuk(obj)"
      ],
      "metadata": {
        "colab": {
          "base_uri": "https://localhost:8080/"
        },
        "id": "ZcdCYxSfSYiN",
        "outputId": "cc2fbc8c-0c92-4c15-aeb8-50d2f11ca595"
      },
      "execution_count": null,
      "outputs": [
        {
          "output_type": "stream",
          "name": "stdout",
          "text": [
            "\n",
            "Memproses objek: <class '__main__.PersegiPanjang'>\n",
            "Ini adalah bentuk: Persegi Panjang\n",
            "Objek ini adalah instance dari BentukGeometri (atau turunannya).\n",
            "-> Objek ini juga instance dari PersegiPanjang.\n",
            "\n",
            "Memproses objek: <class '__main__.Segitiga'>\n",
            "Ini adalah bentuk: Segitiga\n",
            "Objek ini adalah instance dari BentukGeometri (atau turunannya).\n",
            "-> Objek ini juga instance dari Segitiga\n",
            "\n",
            "Memproses objek: <class '__main__.BentukGeometri'>\n",
            "Ini adalah bentuk: Lingkaran\n",
            "Objek ini adalah instance dari BentukGeometri (atau turunannya).\n",
            "Objek ini BUKAN instance dari BentukGeometri.\n",
            "\n",
            "Memproses objek: <class 'str'>\n"
          ]
        }
      ]
    },
    {
      "cell_type": "markdown",
      "source": [
        "Penugasan\n"
      ],
      "metadata": {
        "id": "s8p_OMwHLvW3"
      }
    },
    {
      "cell_type": "code",
      "source": [
        "class Mahasiswa:\n",
        "    def __init__(self, nama, nim, ipk):\n",
        "        self.nama = nama\n",
        "        self.nim = nim\n",
        "        self.ipk = ipk\n",
        "\n",
        "    def tampilkan_info(self):\n",
        "        print(f\"Nama: {self.nama}\")\n",
        "        print(f\"NIM: {self.nim}\")\n",
        "        print(f\"IPK: {self.ipk:.2f}\")\n",
        "\n",
        "    def hitung_predikat(self):\n",
        "        if self.ipk >= 3.5:\n",
        "            print(\"Predikat: Dengan Pujian\")\n",
        "        elif self.ipk >= 3.0:\n",
        "            print(\"Predikat: Sangat Memuaskan\")\n",
        "        elif self.ipk >= 2.5:\n",
        "            print(\"Predikat: Memuaskan\")\n",
        "        else:\n",
        "            print(\"Predikat: Cukup\")\n",
        "\n",
        "class MahasiswaSarjana(Mahasiswa):\n",
        "    def __init__(self, nama, nim, ipk, semester, sks_lulus):\n",
        "        super().__init__(nama, nim, ipk)\n",
        "        self.semester = semester\n",
        "        self.sks_lulus = sks_lulus\n",
        "\n",
        "    def tampilkan_info(self):\n",
        "        super().tampilkan_info()\n",
        "        print(f\"Semester: {self.semester}\")\n",
        "        print(f\"SKS Lulus: {self.sks_lulus}\")\n",
        "\n",
        "class MahasiswaMagister(Mahasiswa):\n",
        "    def __init__(self, nama, nim, ipk, judul_tesis, nama_pembimbing):\n",
        "        super().__init__(nama, nim, ipk)\n",
        "        self.judul_tesis = judul_tesis\n",
        "        self.nama_pembimbing = nama_pembimbing\n",
        "\n",
        "    def tampilkan_info(self):\n",
        "        super().tampilkan_info()\n",
        "        print(f\"Judul Tesis: {self.judul_tesis}\")\n",
        "        print(f\"Pembimbing: {self.nama_pembimbing}\")\n",
        "\n",
        "# Override metode hitung_predikat jika diperlukan\n",
        "    def hitung_predikat(self):\n",
        "        if self.ipk >= 3.7:\n",
        "            print(\"Predikat Dengan Pujian\")\n",
        "        elif self.ipk >= 3.3:\n",
        "            print(\"Predikat Sangat Memuaskan\")\n",
        "        elif self.ipk >= 3.0:\n",
        "            print(\"Predikat: Memuaskan\")\n",
        "        else:\n",
        "            print(\"Predikat: Cukup\")\n",
        "\n",
        "# Contoh penggunaan\n",
        "print(\"===== Mahasiswa =====\")\n",
        "mhs = Mahasiswa(\"Andi\", \"12345\", 3.4)\n",
        "mhs.tampilkan_info()\n",
        "mhs.hitung_predikat()\n",
        "\n",
        "print(\"\\n===== Mahasiswa Sarjana =====\")\n",
        "mhs_sarjana = MahasiswaSarjana(\"Budiyono\", \"67890\", 3.6, 6, 144)\n",
        "mhs_sarjana.tampilkan_info()\n",
        "mhs_sarjana.hitung_predikat()\n",
        "\n",
        "print(\"\\n===== Mahasiswa Magister =====\")\n",
        "mhs_magister = MahasiswaMagister(\"Citra\", \"11223\", 3.8, \"Analisa Data\", \"Dr. siti\")\n",
        "mhs_magister.tampilkan_info()\n",
        "mhs_magister.hitung_predikat()"
      ],
      "metadata": {
        "colab": {
          "base_uri": "https://localhost:8080/"
        },
        "id": "fmnpxPCNL3MA",
        "outputId": "c5f4fd2f-cb5b-4b84-d13b-88b44345c8c2"
      },
      "execution_count": null,
      "outputs": [
        {
          "output_type": "stream",
          "name": "stdout",
          "text": [
            "===== Mahasiswa =====\n",
            "Nama: Andi\n",
            "NIM: 12345\n",
            "IPK: 3.40\n",
            "Predikat: Sangat Memuaskan\n",
            "\n",
            "===== Mahasiswa Sarjana =====\n",
            "Nama: Budiyono\n",
            "NIM: 67890\n",
            "IPK: 3.60\n",
            "Semester: 6\n",
            "SKS Lulus: 144\n",
            "Predikat: Dengan Pujian\n",
            "\n",
            "===== Mahasiswa Magister =====\n",
            "Nama: Citra\n",
            "NIM: 11223\n",
            "IPK: 3.80\n",
            "Judul Tesis: Analisa Data\n",
            "Pembimbing: Dr. siti\n",
            "Predikat Dengan Pujian\n"
          ]
        }
      ]
    }
  ]
}