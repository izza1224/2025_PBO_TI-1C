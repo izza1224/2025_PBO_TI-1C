{
  "nbformat": 4,
  "nbformat_minor": 0,
  "metadata": {
    "colab": {
      "provenance": [],
      "authorship_tag": "ABX9TyO299QE0aYYAaMeTTZ6Tn05",
      "include_colab_link": true
    },
    "kernelspec": {
      "name": "python3",
      "display_name": "Python 3"
    },
    "language_info": {
      "name": "python"
    }
  },
  "cells": [
    {
      "cell_type": "markdown",
      "metadata": {
        "id": "view-in-github",
        "colab_type": "text"
      },
      "source": [
        "<a href=\"https://colab.research.google.com/github/izza1224/2025_PBO_TI-1C/blob/main/Jobsheet_05.ipynb\" target=\"_parent\"><img src=\"https://colab.research.google.com/assets/colab-badge.svg\" alt=\"Open In Colab\"/></a>"
      ]
    },
    {
      "cell_type": "markdown",
      "source": [
        "**JOBSHEET 05: POLIMORFISME DAN MEMAHAMI OVERLOADING/OVERRIDING**\n"
      ],
      "metadata": {
        "id": "4hEtodd_c7rO"
      }
    },
    {
      "cell_type": "markdown",
      "source": [
        "Praktikum 01: Polimorfisme dengan Inheritance dan Overriding\n"
      ],
      "metadata": {
        "id": "9aRswUstdIKK"
      }
    },
    {
      "cell_type": "code",
      "execution_count": 1,
      "metadata": {
        "colab": {
          "base_uri": "https://localhost:8080/"
        },
        "id": "OxZwFJI7bwpu",
        "outputId": "3f1ad828-5ee1-4ba2-c57f-ce13cfc68530"
      },
      "outputs": [
        {
          "output_type": "stream",
          "name": "stdout",
          "text": [
            "\n",
            "Aksi Burung:\n",
            "-- Aksi untuk Elang Jawa --\n",
            "Elang Jawa terbang tinggi melayang di angkasa.\n",
            "<__main__.Elang object at 0x7986d4284dd0> berteriak nyaring!\n",
            "---------------\n",
            "-- Aksi untuk Pipit Gereja --\n",
            "Pipit Gereja terbang cepat di antara pepohonan.\n",
            "Pipit Gereja berkicau merdu: Cit cit!\n",
            "---------------\n",
            "-- Aksi untuk Burung Misterius --\n",
            "Burung Misterius terbang dengan cara umum.\n",
            "Burung Misterius mengeluarkan suara burung.\n",
            "---------------\n"
          ]
        }
      ],
      "source": [
        "# Kelas Induk\n",
        "class Burung:\n",
        "    def __init__(self, nama):\n",
        "        self.nama = nama\n",
        "\n",
        "    def terbang(self):\n",
        "        print(f\"{self.nama} terbang dengan cara umum.\")\n",
        "\n",
        "    def bersuara(self):\n",
        "        print(f\"{self.nama} mengeluarkan suara burung.\")\n",
        "\n",
        "# Kelas Anak 1\n",
        "class Elang(Burung):\n",
        "    def __init__(self, nama, rentang_sayap):\n",
        "        super().__init__(nama)\n",
        "        self.rentang_sayap = rentang_sayap\n",
        "\n",
        "    # Override\n",
        "    def terbang(self):\n",
        "        print(f\"{self.nama} terbang tinggi melayang di angkasa.\")\n",
        "\n",
        "    # Override\n",
        "    def bersuara(self):\n",
        "        print(f\"{self} berteriak nyaring!\")\n",
        "\n",
        "# Kelas Anak 2\n",
        "class Pipit(Burung):\n",
        "    def __init__(self, nama, warna_bulu):\n",
        "        super().__init__(nama)\n",
        "        self.warna_bulu = warna_bulu\n",
        "\n",
        "    # Override\n",
        "    def terbang(self):\n",
        "        print(f\"{self.nama} terbang cepat di antara pepohonan.\")\n",
        "\n",
        "    # Override\n",
        "    def bersuara(self):\n",
        "        print(f\"{self.nama} berkicau merdu: Cit cit!\")\n",
        "\n",
        "# Fungsi yang memanfaatkan polimorfisme\n",
        "def demonstrasi_aksi_burung(daftar_burung):\n",
        "    print(\"\\nAksi Burung:\")\n",
        "    for burung in daftar_burung:\n",
        "        print(f\"-- Aksi untuk {burung.nama} --\")\n",
        "        # Panggilan metode yang sama, tapi perilaku berbeda tergantung objek\n",
        "\n",
        "        burung.terbang()\n",
        "        burung.bersuara()\n",
        "        print(\"-\" * 15)\n",
        "\n",
        "# --- Kode Utama ---\n",
        "if __name__ == \"__main__\":\n",
        "    elang_jawa = Elang(\"Elang Jawa\", 1.5)\n",
        "    pipit_gereja = Pipit(\"Pipit Gereja\", \"Coklat\")\n",
        "    burung_aneh = Burung(\"Burung Misterius\") # Objek dari kelas induk\n",
        "\n",
        "    koleksi_burung = [elang_jawa, pipit_gereja, burung_aneh]\n",
        "\n",
        "    demonstrasi_aksi_burung(koleksi_burung)"
      ]
    },
    {
      "cell_type": "markdown",
      "source": [
        "Praktikum 02: Polimorfisme dengan Duck Typing\n"
      ],
      "metadata": {
        "id": "BIDdu1OMjptD"
      }
    },
    {
      "cell_type": "code",
      "source": [
        "class Kucing:\n",
        "    def bersuara(self):\n",
        "        print(\"Kucing: Meow!\")\n",
        "\n",
        "class Anjing:\n",
        "    def bersuara(self):\n",
        "        print(\"Anjing: Guk guk!\")\n",
        "\n",
        "class Bebek:\n",
        "    def bersuara(slef):\n",
        "        print(\"Bebek: Kwek kwek!\")\n",
        "\n",
        "class Mobil: # Kelas ini TIDAK punya metode bersuara()\n",
        "    def jalankan(self):\n",
        "        print(\"Mobil: Brummm!\")\n",
        "\n",
        "# Fungsi ini tidak peduli tipe objeknya,\n",
        "# asal punya metode .bersuara()\n",
        "def buat_suara(objek_yang_bisa_bersuara):\n",
        "    try:\n",
        "        # memanggil metode 'bersuara' jika ada\n",
        "        objek_yang_bisa_bersuara.bersuara()\n",
        "    except AttributeError:\n",
        "        # menangani jika objek tidak punya metode 'bersuara'\n",
        "          print(f\"objek {type(objek_yang_bisa_bersuara).__name__} tidak bisa bersuara.\")\n",
        "\n",
        "# --- Kode Utama ---\n",
        "if __name__ == \"__main__\":\n",
        "    kucing1 = Kucing()\n",
        "    anjing1 = Anjing()\n",
        "    bebek1 = Bebek()\n",
        "    mobil1 = Mobil()\n",
        "\n",
        "    daftar_objek = [kucing1, anjing1, bebek1, mobil1]\n",
        "\n",
        "    print(\"Demonstrasi Duck Typing:\")\n",
        "    for item in daftar_objek:\n",
        "        buat_suara(item) # Fungsi polimorfik via duck typing"
      ],
      "metadata": {
        "colab": {
          "base_uri": "https://localhost:8080/"
        },
        "id": "6fy7nrYNjzp9",
        "outputId": "51d8aa81-f710-406b-ab62-08db0fcae983"
      },
      "execution_count": 3,
      "outputs": [
        {
          "output_type": "stream",
          "name": "stdout",
          "text": [
            "Demonstrasi Duck Typing:\n",
            "Kucing: Meow!\n",
            "Anjing: Guk guk!\n",
            "Bebek: Kwek kwek!\n",
            "objek Mobil tidak bisa bersuara.\n"
          ]
        }
      ]
    },
    {
      "cell_type": "markdown",
      "source": [
        "Praktikum 03: Simulasi Overloading dalam Metode Kelas dengan *args"
      ],
      "metadata": {
        "id": "K0OTR8Y6njwo"
      }
    },
    {
      "cell_type": "code",
      "source": [
        "class KalkulatorSederhana :\n",
        "    def __init__(self, nama=\"Kalkulator\"):\n",
        "        self.nama = nama\n",
        "        print(f\"{self.nama} siap digunakan.\")\n",
        "\n",
        "    def tambah(self, *args):\n",
        "        \"\"\"\n",
        "        Metode ini menjumlahkan semua argumen angka yang diberikan.\n",
        "        Menerima sejumlah argumen posisi menggunakan *args.\n",
        "        \"\"\"\n",
        "        print(f\"\\nMemanggil metode tambah dengan argumen: {args}\")\n",
        "        if not args:\n",
        "            print(\"Tidak ada angka untuk dijumlahkan.\")\n",
        "            return 0 # Atau bisa juga None atau raise error\n",
        "\n",
        "        total = 0\n",
        "        valid_input = True\n",
        "        for angka in args:\n",
        "            # Melakukan pengecekan tipe sederhana\n",
        "            if isinstance(angka, (int, float)):\n",
        "                total += angka\n",
        "            else:\n",
        "                print(f\"Peringatan: Argumen '{angka} bukan angka dan akan diabaikan.\")\n",
        "                valid_input = False\n",
        "\n",
        "        if valid_input:\n",
        "           print(f\"Hasil penjumlahan: {total}\")\n",
        "        else:\n",
        "           print(f\"Hasil penjumlahan (dengan beberapa input diabaikan): {total}\")\n",
        "\n",
        "        return total\n",
        "\n",
        "# --- Kode Utama ---\n",
        "if __name__ == \"__main__\":\n",
        "    calc = KalkulatorSederhana(\"Calc-01\")\n",
        "\n",
        "    # Memanggil metode 'tambah' dengan jumlah argumen berbeda\n",
        "    print(\"\\n--- Percobaan Penjumlahan ---\")\n",
        "    calc.tambah(5, 10)\n",
        "    calc.tambah(2, 3, 5, 10)\n",
        "    calc.tambah(100)\n",
        "    calc.tambah() # Tanpa argumen\n",
        "    calc.tambah(1, 2, \"tiga\", 4, 5.5) # Dengan input non-angka\n"
      ],
      "metadata": {
        "colab": {
          "base_uri": "https://localhost:8080/"
        },
        "id": "qaxjbWOzntD7",
        "outputId": "e0fe245a-5424-4723-d5a2-53eb541fea44"
      },
      "execution_count": 9,
      "outputs": [
        {
          "output_type": "stream",
          "name": "stdout",
          "text": [
            "Calc-01 siap digunakan.\n",
            "\n",
            "--- Percobaan Penjumlahan ---\n",
            "\n",
            "Memanggil metode tambah dengan argumen: (5, 10)\n",
            "Hasil penjumlahan: 15\n",
            "\n",
            "Memanggil metode tambah dengan argumen: (2, 3, 5, 10)\n",
            "Hasil penjumlahan: 20\n",
            "\n",
            "Memanggil metode tambah dengan argumen: (100,)\n",
            "Hasil penjumlahan: 100\n",
            "\n",
            "Memanggil metode tambah dengan argumen: ()\n",
            "Tidak ada angka untuk dijumlahkan.\n",
            "\n",
            "Memanggil metode tambah dengan argumen: (1, 2, 'tiga', 4, 5.5)\n",
            "Peringatan: Argumen 'tiga bukan angka dan akan diabaikan.\n",
            "Hasil penjumlahan (dengan beberapa input diabaikan): 12.5\n"
          ]
        }
      ]
    },
    {
      "cell_type": "markdown",
      "source": [
        "Praktikum 04: Simulasi Overloading dalam Metode Kelas dengan *args dan **kwargs\n"
      ],
      "metadata": {
        "id": "XF_x2Fzes_3K"
      }
    },
    {
      "cell_type": "code",
      "source": [
        "class DataProcessor:\n",
        "    def __init__(self, processor_id):\n",
        "        self.processor_id = processor_id\n",
        "        print(f\"Data Processor {self.processor_id} siap.\")\n",
        "\n",
        "    def process(self, *args, **kwargs):\n",
        "        \"\"\"\n",
        "        Metode ini memproses data dengan argumen posisi (*args)\n",
        "        dan kata kunci (**kwargs) yang jumlahnya variabel.\n",
        "        \"\"\"\n",
        "        print(f\"\\n--- {self.processor_id} Memproses Data ---\")\n",
        "\n",
        "        # Memproses argumen posisi (*args -> tuple)\n",
        "        if args:\n",
        "            print(\"Argumen Posisi Diterima:\")\n",
        "            for i, arg in enumerate(args):\n",
        "               print(f\" args[{i}]: {arg} (tipe: {type(arg).__name__})\")\n",
        "        else:\n",
        "            print(\"Tidak ada argumen posisi.\")\n",
        "\n",
        "        # memproses argumen kata kunci (**kwargs -> dict)\n",
        "        if kwargs:\n",
        "            print(\"Argument Kata Kunci Diterima:\")\n",
        "            for kunci, nilai in kwargs.items():\n",
        "             print(f\" {kunci}: {nilai} (tipe(nilai).__name__})\")\n",
        "        else:\n",
        "            print(\"Tidak ada argumen kata kunci.\")\n",
        "        print(\"---------------------------------\")\n",
        "\n",
        "# --- Kode Utama ----\n",
        "if __name__ == \"__main__\":\n",
        "    # Membuat instance dari kelas\n",
        "    processor1 = DataProcessor(\"DP-001\")\n",
        "\n",
        "    # memanggil metode 'process' dengan berbagai cara\n",
        "    print(\"\\nPanggilan 1: Tanpa argumen tambahan\")\n",
        "    processor1.process()\n",
        "\n",
        "    print(\"\\nPanggilan 2: Hanya argumen posisi\")\n",
        "    processor1.process(100, \"Status OK\", 99.9, False)\n",
        "\n",
        "    print(\"\\nPanggilan 3: Hanya argumen kata kunci\")\n",
        "    processor1.process(user=\"admin\", level=5, mode=\"verbose\")\n",
        "\n",
        "    print(\"\\nPanggilan 4: Kombinasi argumen posisi dan kata kunci\")\n",
        "            processor1.process(\"Task-A\", \"Task-B\", status=\"Running\", priority=\"High\", thread_id=54321)\n",
        "\n",
        "    # Panggilan dengan list dan dictionary sebagai argumen posisi\n",
        "    print ()"
      ],
      "metadata": {
        "id": "we3y_SbetL-H"
      },
      "execution_count": null,
      "outputs": []
    }
  ]
}