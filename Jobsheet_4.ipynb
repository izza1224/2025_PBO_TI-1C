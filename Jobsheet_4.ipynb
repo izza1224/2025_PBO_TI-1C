{
  "nbformat": 4,
  "nbformat_minor": 0,
  "metadata": {
    "colab": {
      "provenance": [],
      "name": "Jobsheet_4.ipynb",
      "authorship_tag": "ABX9TyOJaU2flWmGE18ZNmToAxNe",
      "include_colab_link": true
    },
    "kernelspec": {
      "name": "python3",
      "display_name": "Python 3"
    },
    "language_info": {
      "name": "python"
    }
  },
  "cells": [
    {
      "cell_type": "markdown",
      "metadata": {
        "id": "view-in-github",
        "colab_type": "text"
      },
      "source": [
        "<a href=\"https://colab.research.google.com/github/izza1224/2025_PBO_TI-1C/blob/main/Jobsheet_4.ipynb\" target=\"_parent\"><img src=\"https://colab.research.google.com/assets/colab-badge.svg\" alt=\"Open In Colab\"/></a>"
      ]
    },
    {
      "cell_type": "markdown",
      "source": [
        "**JOBSHEET 04: MEMAHAMI PEWARISAN (INHERITANCE) DALAM PYTHON**\n"
      ],
      "metadata": {
        "id": "DCuKNcp2fZsU"
      }
    },
    {
      "cell_type": "markdown",
      "source": [
        "Praktikum 01: Indikator Dasar"
      ],
      "metadata": {
        "id": "uwGlFomVfYdL"
      }
    },
    {
      "cell_type": "code",
      "execution_count": 4,
      "metadata": {
        "id": "ujeVb5GWcdPV",
        "outputId": "f4f05d7a-42f0-42c2-82ab-4fac1047c7e9",
        "colab": {
          "base_uri": "https://localhost:8080/"
        }
      },
      "outputs": [
        {
          "output_type": "stream",
          "name": "stdout",
          "text": [
            "Ini adalah mobil Tesla Model S berwarna Merah.\n",
            "Mesin kendaraan Tesla Model S dinyalakan.\n",
            "Merk mobil: Tesla Model S\n"
          ]
        }
      ],
      "source": [
        "# Kelas Induk\n",
        "class Kendaraan:\n",
        "    def __init__(self, merk):\n",
        "       self.merk = merk\n",
        "    def mulai_mesin(self):\n",
        "        print(f\"Mesin kendaraan {self.merk} dinyalakan.\")\n",
        "\n",
        "# Kelas Anak (mewarisi dari kendaraan)\n",
        "class Mobil (Kendaraan):\n",
        "    def __init__(self, merk, warna):\n",
        "       # Memanggil __init__kelas induk (akan dibahas dipraktikum 2)\n",
        "       # Untuk sekarang, kita set merk secara manual\n",
        "       self.merk = merk # Mewarisi 'merk' tapi di-set ulang di sini\n",
        "       self.warna = warna # Atribut khusus mobil\n",
        "\n",
        "    def info_mobil(self):\n",
        "        print(f\"Ini adalah mobil {self.merk} berwarna {self.warna}.\")\n",
        "\n",
        "# ---Kode Utama---\n",
        "if __name__ == \"__main__\":\n",
        "    mobil_tesla = Mobil(\"Tesla Model S\",\"Merah\")\n",
        "\n",
        "    # Memanggil metode dari kelas anak\n",
        "    mobil_tesla.info_mobil()\n",
        "\n",
        "    # Memanggil metode yang diwarisi dari kelas induk\n",
        "    mobil_tesla.mulai_mesin()\n",
        "\n",
        "    # Mengakses atribut yang diwarisi (dan di-set di anak)\n",
        "    print(f\"Merk mobil: {mobil_tesla.merk}\")\n",
        "\n",
        "\n"
      ]
    },
    {
      "cell_type": "markdown",
      "source": [
        "Praktikum 02: Menggunakan super()dalam konstruktor"
      ],
      "metadata": {
        "id": "2xbT2sZ2mtp4"
      }
    },
    {
      "cell_type": "code",
      "source": [
        "# Kelas Induk\n",
        "class Person:\n",
        "    def __init__(self, nama, usia):\n",
        "        print(f\"(Memanggil __init__ Person untuk '{nama}')\")\n",
        "        self.nama = nama\n",
        "        self.usia = usia\n",
        "\n",
        "    def perkenalkan_diri(self):\n",
        "        print(f\"Halo, nama saya {self.nama}, usia saya {self.usia}tahun.\")\n",
        "\n",
        "# Kelas Anak (mewarisi dari person)\n",
        "class student(Person):\n",
        "    def __init__(self, nama, usia, student_id, jurusan):\n",
        "        print (f\"(Memanggil __init__Student untuk '{nama}')\")\n",
        "        # Memanggil __init__ dari kelas person untuk inisialisasi nama dan usia\n",
        "        super().__init__(nama, usia)\n",
        "        # Menambah atribut khusus student\n",
        "        self.student_id = student_id\n",
        "        self.jurusan = jurusan\n",
        "        print(f\"(Inisialisasi atribut student selesai untuk '{nama}')\")\n",
        "\n",
        "    def info_akademik(self):\n",
        "        print(f\"ID Mahasiswa: {self.student_id}\")\n",
        "        print(f\"Jurusan: {self.jurusan}\")\n",
        "\n",
        "    # Override perkenalkan_diri(self):\n",
        "    def perkenalkan_diri(self):\n",
        "        super().perkenalkan_diri() # Panggil versi person\n",
        "        print(f\"Saya adalah mahasiswa dengan ID {self.student_id}, jurusan {self.jurusan}.\")\n",
        "\n",
        "# --- Kode utama ---\n",
        "if __name__ == \"__main__\":\n",
        "    # membuat objek person\n",
        "    dosen = Person(\"Pak anton\", 45)\n",
        "    print(\"_\" * 20)\n",
        "    dosen.perkenalkan_diri()\n",
        "    print(\"\\n\" + \"=\" * 30 + \"\\n\")\n",
        "\n",
        "    # Membuat objek student\n",
        "    mahasiswa = student(\"Dewi\", 20, \"MHS001\", \"Teknik komputer\")\n",
        "    print(\"_\" * 20)\n",
        "    mahasiswa.perkenalkan_diri() # panggil versi override di student\n",
        "    print(\"_\" * 20)\n",
        "    mahasiswa.info_akademik() # panggil metode khusus student\n",
        "\n",
        "    # Cek atribut yang diwarisi\n",
        "    print(f\"\\nUsia mahasiswa {mahasiswa.nama}: {mahasiswa.usia}\") # usia diwarisi dari person"
      ],
      "metadata": {
        "id": "0TYn93Itm3RE",
        "outputId": "e3f13eb0-c32a-4fa1-b53b-31e77f29bedf",
        "colab": {
          "base_uri": "https://localhost:8080/"
        }
      },
      "execution_count": 48,
      "outputs": [
        {
          "output_type": "stream",
          "name": "stdout",
          "text": [
            "(Memanggil __init__ Person untuk 'Pak anton')\n",
            "____________________\n",
            "Halo, nama saya Pak anton, usia saya 45tahun.\n",
            "\n",
            "==============================\n",
            "\n",
            "(Memanggil __init__Student untuk 'Dewi')\n",
            "(Memanggil __init__ Person untuk 'Dewi')\n",
            "(Inisialisasi atribut student selesai untuk 'Dewi')\n",
            "____________________\n",
            "Halo, nama saya Dewi, usia saya 20tahun.\n",
            "Saya adalah mahasiswa dengan ID MHS001, jurusan Teknik komputer.\n",
            "____________________\n",
            "ID Mahasiswa: MHS001\n",
            "Jurusan: Teknik komputer\n",
            "\n",
            "Usia mahasiswa Dewi: 20\n"
          ]
        }
      ]
    },
    {
      "cell_type": "markdown",
      "source": [
        "Praktikum 03: Method Ovrriding dan super()\n"
      ],
      "metadata": {
        "id": "AxOBjbcswVjj"
      }
    },
    {
      "cell_type": "code",
      "source": [
        "# Kelas Hewan\n",
        "class Hewan:\n",
        "    def __init__(self, nama):\n",
        "        self.nama = nama\n",
        "\n",
        "    def bersuara(self):\n",
        "        print(f\"{self.nama} mengeluarkan suara generik.\")\n",
        "\n",
        "    def tampilkan_info(self):\n",
        "        print(f\"Ini adalah hewan bernama {self.nama}.\")\n",
        "\n",
        " # Kelas Anak\n",
        "class Kucing(Hewan):\n",
        "    def __init__(self, nama, ras):\n",
        "          super().__init__(nama) # Panggil init induk\n",
        "          self.ras = ras\n",
        "\n",
        "      # Method Overriding untuk bersuara\n",
        "    def bersuara(self):\n",
        "          print(f\"{self.nama} (kucing) mengeong: Meow!\")\n",
        "\n",
        "       # Method Overriding untuk tampilkan_info, memanggil versi induk\n",
        "    def tampilkan_info(self):\n",
        "           super().tampilkan_info() # Panggil implementasi dari hewan\n",
        "           print(f\"Ini adalah kucing ras {self.ras}.\") # Tambahan info spesifik\n",
        "\n",
        "# --- Kode utama ---\n",
        "if __name__ == \"__main__\":\n",
        "   hewan_umum = Hewan(\"Makhluk\")\n",
        "   kucing_persia = Kucing(\"Puspus\", \"Persia\")\n",
        "\n",
        "   print(\"Info hewan umum:\")\n",
        "   hewan_umum.tampilkan_info()\n",
        "   hewan_umum.bersuara()\n",
        "   print(\"_\" * 20)\n",
        "\n",
        "   print(\"info Kucing Persia:\")\n",
        "   kucing_persia.tampilkan_info() # Akan memanggil versi kucing\n",
        "   kucing_persia.bersuara() # Akan memanggil versi kucing\n"
      ],
      "metadata": {
        "id": "2S3FsM8Yw_D7",
        "outputId": "44bd1fe4-e68b-4e28-fca7-6a1a695413fa",
        "colab": {
          "base_uri": "https://localhost:8080/"
        }
      },
      "execution_count": 40,
      "outputs": [
        {
          "output_type": "stream",
          "name": "stdout",
          "text": [
            "Info hewan umum:\n",
            "Ini adalah hewan bernama Makhluk.\n",
            "Makhluk mengeluarkan suara generik.\n",
            "____________________\n",
            "info Kucing Persia:\n",
            "Ini adalah hewan bernama Puspus.\n",
            "Ini adalah kucing ras Persia.\n",
            "Puspus (kucing) mengeong: Meow!\n"
          ]
        }
      ]
    },
    {
      "cell_type": "markdown",
      "source": [
        "Praktikum 04: Multi-level Inheritance(Pewaris Bertingkat)"
      ],
      "metadata": {
        "id": "BUlI5Ihq5XAY"
      }
    },
    {
      "cell_type": "code",
      "source": [
        "# Kelas Induk Lvel 1\n",
        "class Organisme:\n",
        "    def __init__(self, nama):\n",
        "        self.nama = nama\n",
        "        print(f\"Organisme '(self.nama)' diciptakan.\")\n",
        "\n",
        "    def bernapas(self):\n",
        "        print"
      ],
      "metadata": {
        "id": "hZjrubAF5waU"
      },
      "execution_count": null,
      "outputs": []
    }
  ]
}