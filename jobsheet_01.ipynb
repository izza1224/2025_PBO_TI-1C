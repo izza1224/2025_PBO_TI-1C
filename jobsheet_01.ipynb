{
  "nbformat": 4,
  "nbformat_minor": 0,
  "metadata": {
    "colab": {
      "provenance": [],
      "authorship_tag": "ABX9TyOQ0h8qiMY6q71PXqzeqJdJ",
      "include_colab_link": true
    },
    "kernelspec": {
      "name": "python3",
      "display_name": "Python 3"
    },
    "language_info": {
      "name": "python"
    }
  },
  "cells": [
    {
      "cell_type": "markdown",
      "metadata": {
        "id": "view-in-github",
        "colab_type": "text"
      },
      "source": [
        "<a href=\"https://colab.research.google.com/github/izza1224/2025_PBO_TI-1C/blob/main/jobsheet_01.ipynb\" target=\"_parent\"><img src=\"https://colab.research.google.com/assets/colab-badge.svg\" alt=\"Open In Colab\"/></a>"
      ]
    },
    {
      "cell_type": "markdown",
      "source": [
        "# Jobsheet 01:Dasar Bahasa Pemrograman Python"
      ],
      "metadata": {
        "id": "iZRJ_cgCNlP4"
      }
    },
    {
      "cell_type": "markdown",
      "source": [
        "**Praktikum 01. Tipe data dasar**"
      ],
      "metadata": {
        "id": "3a6AdOfHR3oH"
      }
    },
    {
      "cell_type": "code",
      "source": [
        "# 1. Number (int, float, complex)\n",
        "\n",
        "# Integer (int)\n",
        "angka_int = 10\n",
        "print(\"angka_int =\", angka_int, \"->\", type(angka_int))\n",
        "\n",
        "# Float\n",
        "angka_float = 3.14\n",
        "print(\"angka_float =\", angka_float, \"->\", type(angka_float))\n",
        "\n",
        "# Complex\n",
        "angka_complex = 2 + 3j\n",
        "print(\"angka_complex =\", angka_complex, \"->\", type(angka_complex))\n",
        "print(\"noted\")\n",
        "print(\"integer → tipe data untuk bilangan bulat\")\n",
        "print(\"float → tipe data untuk bilangan desimal.\")\n",
        "print(\"complex → tipe data untuk bilangan yang terdiri dari bilangan imajiner.\")"
      ],
      "metadata": {
        "id": "fr_w2myxtY4L",
        "outputId": "a4b08944-f68c-4139-cd52-90ab9b377ceb",
        "colab": {
          "base_uri": "https://localhost:8080/"
        }
      },
      "execution_count": 36,
      "outputs": [
        {
          "output_type": "stream",
          "name": "stdout",
          "text": [
            "angka_int = 10 -> <class 'int'>\n",
            "angka_float = 3.14 -> <class 'float'>\n",
            "angka_complex = (2+3j) -> <class 'complex'>\n",
            "noted\n",
            "integer → tipe data untuk bilangan bulat\n",
            "float → tipe data untuk bilangan desimal.\n",
            "complex → tipe data untuk bilangan yang terdiri dari bilangan imajiner.\n"
          ]
        }
      ]
    },
    {
      "cell_type": "code",
      "source": [
        "# 2. Boolean\n",
        "is_active = True\n",
        "print(\"is_active =\", is_active, \"->\", type(is_active))\n",
        "print(\"noted\")\n",
        "print(\"Boolean → Tipe data yang hanya memiliki dua nilai: True atau False.\")"
      ],
      "metadata": {
        "id": "3b9loenJvXqQ",
        "outputId": "1a023e77-8824-4c24-b94f-cef1a1e602db",
        "colab": {
          "base_uri": "https://localhost:8080/"
        }
      },
      "execution_count": 37,
      "outputs": [
        {
          "output_type": "stream",
          "name": "stdout",
          "text": [
            "is_active = True -> <class 'bool'>\n",
            "noted\n",
            "Boolean → Tipe data yang hanya memiliki dua nilai: True atau False.\n"
          ]
        }
      ]
    },
    {
      "cell_type": "code",
      "source": [
        "# 3. String\n",
        "teks = \"Hello, Python!\"\n",
        "print(\"teks =\", teks, \"->\", type(teks))\n",
        "print(\"noted\")\n",
        "print(\"String → Tipe data yang digunakan untuk menyimpan teks atau karakter.\")"
      ],
      "metadata": {
        "id": "93CZuK3zvlsT",
        "outputId": "2313a739-b346-4a97-a0c4-d4040fd6c38f",
        "colab": {
          "base_uri": "https://localhost:8080/"
        }
      },
      "execution_count": 39,
      "outputs": [
        {
          "output_type": "stream",
          "name": "stdout",
          "text": [
            "teks = Hello, Python! -> <class 'str'>\n",
            "noted\n",
            "String → Tipe data yang digunakan untuk menyimpan teks atau karakter.\n"
          ]
        }
      ]
    },
    {
      "cell_type": "code",
      "source": [
        "# 4. List\n",
        "# List adalah tipe data terurut dan dapat diubah (mutable)\n",
        "daftar_angka = [1, 2, 3, 4, 5]\n",
        "print(\"daftar_angka =\", daftar_angka, \"->\", type(daftar_angka))\n",
        "print(\"noted\")\n",
        "print(\"List adalah Kumpulan data yang dapat diambil dengan cara indexing(mengambil data berdasarkan posisinya)\")\n",
        "print(\"dan list merupakan salah satu Kumpulan data yang Mutable atau dapat diubah (notasi = [])\")"
      ],
      "metadata": {
        "id": "MWVC5n-xv345",
        "outputId": "97611faa-cbd6-484d-8d9a-5c5f0dca21d4",
        "colab": {
          "base_uri": "https://localhost:8080/"
        }
      },
      "execution_count": 43,
      "outputs": [
        {
          "output_type": "stream",
          "name": "stdout",
          "text": [
            "daftar_angka = [1, 2, 3, 4, 5] -> <class 'list'>\n",
            "noted\n",
            "List adalah Kumpulan data yang dapat diambil dengan cara indexing(mengambil data berdasarkan posisinya)\n",
            "dan list merupakan salah satu Kumpulan data yang Mutable atau dapat diubah (notasi = [])\n"
          ]
        }
      ]
    },
    {
      "cell_type": "code",
      "source": [
        "# 5. Tuple\n",
        "# Tuple adalah tipe data terurut tetapi tidak dapat diubah (immutable)\n",
        "koordinat = (10, 20)\n",
        "print(\"koordinat =\", koordinat, \"->\", type(koordinat))\n",
        "print(\"noted\")\n",
        "print(\"Tuple adalah Kumpulan data yang terurut dan dapat diindex seperti list namun tidak dapat diubah(Imutable) (notasi = ())\")"
      ],
      "metadata": {
        "id": "nsG9Lt6EyeHn",
        "outputId": "343658b5-870b-4574-a92a-cbb59cb2118f",
        "colab": {
          "base_uri": "https://localhost:8080/"
        }
      },
      "execution_count": 45,
      "outputs": [
        {
          "output_type": "stream",
          "name": "stdout",
          "text": [
            "koordinat = (10, 20) -> <class 'tuple'>\n",
            "noted\n",
            "Tuple adalah Kumpulan data yang terurut dan dapat diindex seperti list namun tidak dapat diubah(Imutable) (notasi = ())\n"
          ]
        }
      ]
    },
    {
      "cell_type": "code",
      "source": [
        "# 6. Dictionary\n",
        "# Dictionary menyimpan data dalam pasangan key-value\n",
        "data_mahasiswa = {\n",
        "    \"nama\": \"Andi\",\n",
        "    \"nim\": \"A11.2022.12345\",\n",
        "    \"jurusan\": \"Teknik Informatika\"\n",
        "}\n",
        "print(\"data_mahasiswa =\", data_mahasiswa, \"->\", type(data_mahasiswa))\n",
        "print(\"noted\")\n",
        "print(\"dictionary adalah Kumpulan data yang terdiri dari key dan juga value,value dapat dipanggil dengan cara => nama_dict[‘key’] (notasi ={‘key’:’value’})\")\n"
      ],
      "metadata": {
        "id": "O0S_2uUVzPjy",
        "outputId": "c7ec2967-1dc2-4f98-a964-1b7082d0b8be",
        "colab": {
          "base_uri": "https://localhost:8080/"
        }
      },
      "execution_count": 48,
      "outputs": [
        {
          "output_type": "stream",
          "name": "stdout",
          "text": [
            "data_mahasiswa = {'nama': 'Andi', 'nim': 'A11.2022.12345', 'jurusan': 'Teknik Informatika'} -> <class 'dict'>\n",
            "noted\n",
            "dictionary adalah Kumpulan data yang terdiri dari key dan juga value,value dapat dipanggil dengan cara => nama_dict[‘key’] (notasi ={‘key’:’value’})\n"
          ]
        }
      ]
    },
    {
      "cell_type": "code",
      "source": [
        "# 7. Set\n",
        "# Set adalah tipe data yang tidak terurut, unik (tiap elemen hanya muncul 1x)\n",
        "himpunan_angka = {1, 2, 3, 2, 1}\n",
        "print(\"himpunan_angka =\", himpunan_angka, \"->\", type(himpunan_angka))\n",
        "print(\"noted\")\n",
        "print(\"Set adalah tipe data yang tidak terurut (tidak dapat diambil dengan cara indexing), unik (tiap elemen hanya muncul 1x) dan dapat diubah (notasi = {})\")"
      ],
      "metadata": {
        "id": "Bbxkz7HIzr-Q",
        "outputId": "5bc35b65-1fc5-4d3c-a41e-cda517f66c0f",
        "colab": {
          "base_uri": "https://localhost:8080/"
        }
      },
      "execution_count": 50,
      "outputs": [
        {
          "output_type": "stream",
          "name": "stdout",
          "text": [
            "himpunan_angka = {1, 2, 3} -> <class 'set'>\n",
            "noted\n",
            "Set adalah tipe data yang tidak terurut (tidak dapat diambil dengan cara indexing), unik (tiap elemen hanya muncul 1x) dan dapat diubah (notasi = {})\n"
          ]
        }
      ]
    },
    {
      "cell_type": "code",
      "source": [
        "  # 8. Contoh penggunaan konversi tipe data\n",
        "nilai_str = \"100\"\n",
        "print(\"\\nnilai_str =\", nilai_str, \"->\", type(nilai_str))\n",
        "nilai_int = int(nilai_str)  # konversi string ke integer\n",
        "print(\"nilai_int =\", nilai_int, \"->\", type(nilai_int))\n",
        "print(\"noted\")\n",
        "print(\"Konversi Tipe Data → Proses mengubah satu tipe data ke tipe lain, misalnya mengubah string menjadi integer menggunakan int().\")"
      ],
      "metadata": {
        "id": "kf30uga0z7NH",
        "outputId": "afa40094-b890-49b5-b923-2c50461bda9f",
        "colab": {
          "base_uri": "https://localhost:8080/"
        }
      },
      "execution_count": 53,
      "outputs": [
        {
          "output_type": "stream",
          "name": "stdout",
          "text": [
            "\n",
            "nilai_str = 100 -> <class 'str'>\n",
            "nilai_int = 100 -> <class 'int'>\n",
            "noted\n",
            "Konversi Tipe Data → Proses mengubah satu tipe data ke tipe lain, misalnya mengubah string menjadi integer menggunakan int().\n"
          ]
        }
      ]
    },
    {
      "cell_type": "markdown",
      "source": [
        "**Praktikum 02. Variabel dan Operasi dasar**"
      ],
      "metadata": {
        "id": "866DCZfESaoh"
      }
    },
    {
      "cell_type": "code",
      "source": [
        "# -- coding: utf-8 --\n",
        "\n",
        "# 1. Pendeklarasian Variabel\n",
        "nama = \"Budi\"\n",
        "umur = 20\n",
        "tinggi = 170.5\n",
        "is_student = True\n",
        "\n",
        "print(\"Nama =\", nama)\n",
        "print(\"Umur =\", umur)\n",
        "print(\"Tinggi =\", tinggi, \"cm\")\n",
        "print(\"Mahasiswa =\", is_student)\n",
        "\n",
        "# Python tidak memerlukan deklarasi tipe data secara eksplisit.\n",
        "# Tipe data variabel akan menyesuaikan nilai yang diberikan."
      ],
      "metadata": {
        "id": "aALTsFFM0tm-",
        "outputId": "0e7fe010-6588-405a-b529-74e2d0d17a3f",
        "colab": {
          "base_uri": "https://localhost:8080/"
        }
      },
      "execution_count": 54,
      "outputs": [
        {
          "output_type": "stream",
          "name": "stdout",
          "text": [
            "Nama = Budi\n",
            "Umur = 20\n",
            "Tinggi = 170.5 cm\n",
            "Mahasiswa = True\n"
          ]
        }
      ]
    },
    {
      "cell_type": "code",
      "source": [
        "# 2. Operasi Aritmetika\n",
        "a = 10\n",
        "b = 3\n",
        "\n",
        "penjumlahan = a + b      # Tambah\n",
        "pengurangan = a - b      # Kurang\n",
        "perkalian = a * b        # Kali\n",
        "pembagian = a / b        # Bagi (hasil float)\n",
        "pembagian_bulat = a // b # Bagi (bulat)\n",
        "modulus = a % b          # Sisa bagi\n",
        "pangkat = a ** b         # Pemangkatan\n",
        "\n",
        "print(\"\\nOPERASI ARITMETIKA\")\n",
        "print(\"a =\", a, \", b =\", b)\n",
        "print(\"Penjumlahan =\", penjumlahan)\n",
        "print(\"Pengurangan =\", pengurangan)\n",
        "print(\"Perkalian =\", perkalian)\n",
        "print(\"Pembagian =\", pembagian)\n",
        "print(\"Pembagian Bulat =\", pembagian_bulat)\n",
        "print(\"Modulus =\", modulus)\n",
        "print(\"Pangkat =\", pangkat)"
      ],
      "metadata": {
        "id": "feErsnqz18VY",
        "outputId": "c2773e16-46a2-43bc-e2a3-58b14f824554",
        "colab": {
          "base_uri": "https://localhost:8080/"
        }
      },
      "execution_count": 56,
      "outputs": [
        {
          "output_type": "stream",
          "name": "stdout",
          "text": [
            "\n",
            "OPERASI ARITMETIKA\n",
            "a = 10 , b = 3\n",
            "Penjumlahan = 13\n",
            "Pengurangan = 7\n",
            "Perkalian = 30\n",
            "Pembagian = 3.3333333333333335\n",
            "Pembagian Bulat = 3\n",
            "Modulus = 1\n",
            "Pangkat = 1000\n"
          ]
        }
      ]
    },
    {
      "cell_type": "code",
      "source": [
        "# 3. Operasi Perbandingan\n",
        "# Menghasilkan nilai Boolean (True/False)\n",
        "lebih_besar = a > b\n",
        "kurang_dari = a < b\n",
        "sama_dengan = a == b\n",
        "tidak_sama = a != b\n",
        "lebih_besar_sama = a >= b\n",
        "kurang_sama = a <= b\n",
        "\n",
        "print(\"\\nOPERASI PERBANDINGAN\")\n",
        "print(\"a > b =\", lebih_besar)\n",
        "print(\"a < b =\", kurang_dari)\n",
        "print(\"a == b =\", sama_dengan)\n",
        "print(\"a != b =\", tidak_sama)\n",
        "print(\"a >= b =\", lebih_besar_sama)\n",
        "print(\"a <= b =\", kurang_sama)"
      ],
      "metadata": {
        "id": "XwDsjwoj2GZT",
        "outputId": "42515558-119f-489c-ae65-2ebd5e7447d3",
        "colab": {
          "base_uri": "https://localhost:8080/"
        }
      },
      "execution_count": 57,
      "outputs": [
        {
          "output_type": "stream",
          "name": "stdout",
          "text": [
            "\n",
            "OPERASI PERBANDINGAN\n",
            "a > b = True\n",
            "a < b = False\n",
            "a == b = False\n",
            "a != b = True\n",
            "a >= b = True\n",
            "a <= b = False\n"
          ]
        }
      ]
    },
    {
      "cell_type": "code",
      "source": [
        "# 4. Operasi Logika\n",
        "# and, or, not\n",
        "\n",
        "x = True\n",
        "y = False\n",
        "\n",
        "logika_and = x and y\n",
        "logika_or = x or y\n",
        "logika_not_x = not x\n",
        "\n",
        "print(\"\\nOPERASI LOGIKA\")\n",
        "print(\"x =\", x, \", y =\", y)\n",
        "print(\"x and y =\", logika_and)\n",
        "print(\"x or y =\", logika_or)\n",
        "print(\"not x =\", logika_not_x)"
      ],
      "metadata": {
        "id": "YHcbYdbW2Lju",
        "outputId": "941a1f08-80ce-42b6-9325-addda50cc4d5",
        "colab": {
          "base_uri": "https://localhost:8080/"
        }
      },
      "execution_count": 58,
      "outputs": [
        {
          "output_type": "stream",
          "name": "stdout",
          "text": [
            "\n",
            "OPERASI LOGIKA\n",
            "x = True , y = False\n",
            "x and y = False\n",
            "x or y = True\n",
            "not x = False\n"
          ]
        }
      ]
    },
    {
      "cell_type": "code",
      "source": [
        "# 5. Contoh penggunaan di dalam percabangan\n",
        "if a > b and b > 0:\n",
        "    print(\"\\nKondisi terpenuhi: a lebih besar dari b, dan b masih positif.\")\n",
        "else:\n",
        "    print(\"\\nKondisi tidak terpenuhi atau b <= 0.\")\n"
      ],
      "metadata": {
        "id": "7A2SJjbf2SdC",
        "outputId": "07ec00be-9c1d-414e-89e3-9ad280b2ccfe",
        "colab": {
          "base_uri": "https://localhost:8080/"
        }
      },
      "execution_count": 59,
      "outputs": [
        {
          "output_type": "stream",
          "name": "stdout",
          "text": [
            "\n",
            "Kondisi terpenuhi: a lebih besar dari b, dan b masih positif.\n"
          ]
        }
      ]
    },
    {
      "cell_type": "markdown",
      "source": [
        "**Praktikum 03. Percabangan**"
      ],
      "metadata": {
        "id": "AQdJpo2QUcCe"
      }
    },
    {
      "cell_type": "code",
      "source": [
        "# -- coding: utf-8 --\n",
        "\n",
        "# 1. IF Sederhana\n",
        "# Program hanya mengeksekusi blok jika kondisinya True\n",
        "\n",
        "nilai = 85\n",
        "print(\"Contoh IF Sederhana:\")\n",
        "if nilai > 80:\n",
        "    print(\"Selamat! Anda lulus dengan nilai tinggi.\\n\")"
      ],
      "metadata": {
        "id": "hiWzDYAX3VWM",
        "outputId": "4a2da7e8-9d94-45e9-aed2-dd7e479b71c9",
        "colab": {
          "base_uri": "https://localhost:8080/"
        }
      },
      "execution_count": 60,
      "outputs": [
        {
          "output_type": "stream",
          "name": "stdout",
          "text": [
            "Contoh IF Sederhana:\n",
            "Selamat! Anda lulus dengan nilai tinggi.\n",
            "\n"
          ]
        }
      ]
    },
    {
      "cell_type": "code",
      "source": [
        "# 2. IF-ELSE\n",
        "# Jika kondisi True, eksekusi blok if; jika False, eksekusi blok else\n",
        "\n",
        "umur = 17\n",
        "print(\"Contoh IF-ELSE:\")\n",
        "if umur >= 18:\n",
        "    print(\"Anda sudah cukup umur untuk mendapatkan SIM.\")\n",
        "else:\n",
        "    print(\"Anda belum cukup umur untuk mendapatkan SIM.\\n\")"
      ],
      "metadata": {
        "id": "TpGXdx353mmk",
        "outputId": "b08e2f39-df57-43dd-cd13-70550bbfc1b6",
        "colab": {
          "base_uri": "https://localhost:8080/"
        }
      },
      "execution_count": 61,
      "outputs": [
        {
          "output_type": "stream",
          "name": "stdout",
          "text": [
            "Contoh IF-ELSE:\n",
            "Anda belum cukup umur untuk mendapatkan SIM.\n",
            "\n"
          ]
        }
      ]
    },
    {
      "cell_type": "code",
      "source": [
        "# 3. IF-ELIF-ELSE\n",
        "# Menangani banyak kondisi secara berurutan.\n",
        "# Jika ada kondisi yang terpenuhi, blok yang bersangkutan dieksekusi,\n",
        "# lalu program melewati blok kondisi setelahnya.\n",
        "\n",
        "hari = \"Rabu\"\n",
        "print(\"Contoh IF-ELIF-ELSE:\")\n",
        "if hari == \"Senin\":\n",
        "    print(\"Hari Senin - Saatnya kembali bekerja!\")\n",
        "elif hari == \"Selasa\":\n",
        "    print(\"Hari Selasa - Jadwal rapat mingguan.\")\n",
        "elif hari == \"Rabu\":\n",
        "    print(\"Hari Rabu - Ada diskon di beberapa toko.\")\n",
        "else:\n",
        "    print(\"Hari lainnya - Atur jadwalmu dengan baik.\\n\")"
      ],
      "metadata": {
        "id": "GLW-13203uFn",
        "outputId": "50e8be25-ddce-49e1-f3f6-e7b0136b59c5",
        "colab": {
          "base_uri": "https://localhost:8080/"
        }
      },
      "execution_count": 62,
      "outputs": [
        {
          "output_type": "stream",
          "name": "stdout",
          "text": [
            "Contoh IF-ELIF-ELSE:\n",
            "Hari Rabu - Ada diskon di beberapa toko.\n"
          ]
        }
      ]
    },
    {
      "cell_type": "code",
      "source": [
        "# 4. IF Bersarang (Nested IF)\n",
        "# Kondisi di dalam kondisi, biasa digunakan jika kita perlu\n",
        "# memeriksa sub-kondisi setelah kondisi pertama terpenuhi.\n",
        "\n",
        "suhu = 35\n",
        "print(\"Contoh IF Bersarang (Nested IF):\")\n",
        "if suhu > 30:\n",
        "    print(\"Cuaca cukup panas.\")\n",
        "    if suhu > 40:\n",
        "        print(\"Bahkan sangat terik! Disarankan banyak minum air.\")\n",
        "    else:\n",
        "        print(\"Masih relatif normal, tapi tetap jaga kesehatan.\")\n",
        "else:\n",
        "    print(\"Cuaca sepertinya cukup sejuk.\\n\")"
      ],
      "metadata": {
        "id": "v55nvvDs3zMr",
        "outputId": "57f2ef24-9997-48b4-d09e-47705a5cc7fb",
        "colab": {
          "base_uri": "https://localhost:8080/"
        }
      },
      "execution_count": 63,
      "outputs": [
        {
          "output_type": "stream",
          "name": "stdout",
          "text": [
            "Contoh IF Bersarang (Nested IF):\n",
            "Cuaca cukup panas.\n",
            "Masih relatif normal, tapi tetap jaga kesehatan.\n"
          ]
        }
      ]
    },
    {
      "cell_type": "code",
      "source": [
        "# 5. Menggabungkan Percabangan dengan Operasi Logika\n",
        "# Memeriksa beberapa kondisi sekaligus dengan and, or, not\n",
        "\n",
        "nilai_teori = 75\n",
        "nilai_praktik = 80\n",
        "print(\"Contoh IF dengan Operasi Logika AND/OR:\")\n",
        "if nilai_teori >= 70 and nilai_praktik >= 70:\n",
        "    print(\"Anda lulus karena nilai teori dan praktik memadai.\")\n",
        "elif nilai_teori < 70 and nilai_praktik < 70:\n",
        "    print(\"Anda perlu meningkatkan nilai teori dan praktik.\")\n",
        "elif nilai_teori < 70:\n",
        "    print(\"Anda perlu meningkatkan nilai teori.\")\n",
        "else:\n",
        "    print(\"Anda perlu meningkatkan nilai praktik.\\n\")"
      ],
      "metadata": {
        "id": "tF8IbQr434ik",
        "outputId": "57823c26-1d51-4ae1-91db-32e8734e14f4",
        "colab": {
          "base_uri": "https://localhost:8080/"
        }
      },
      "execution_count": 64,
      "outputs": [
        {
          "output_type": "stream",
          "name": "stdout",
          "text": [
            "Contoh IF dengan Operasi Logika AND/OR:\n",
            "Anda lulus karena nilai teori dan praktik memadai.\n"
          ]
        }
      ]
    },
    {
      "cell_type": "code",
      "source": [
        "# 6. Penggunaan If Ternary (atau Conditional Expression)\n",
        "# Bentuk ringkas: <hasil_if_true> if <kondisi> else <hasil_if_false>\n",
        "\n",
        "angka = -5\n",
        "print(\"Contoh If Ternary (Conditional Expression):\")\n",
        "status = \"Positif\" if angka > 0 else \"Negatif atau Nol\"\n",
        "print(\"Angka =\", angka, \"=>\", status)"
      ],
      "metadata": {
        "id": "CwZegrSy39_u",
        "outputId": "8e850f94-41fb-4c85-c2d3-69e5ae861190",
        "colab": {
          "base_uri": "https://localhost:8080/"
        }
      },
      "execution_count": 65,
      "outputs": [
        {
          "output_type": "stream",
          "name": "stdout",
          "text": [
            "Contoh If Ternary (Conditional Expression):\n",
            "Angka = -5 => Negatif atau Nol\n"
          ]
        }
      ]
    },
    {
      "cell_type": "markdown",
      "source": [
        "**Praktikum 04. Perulangan**"
      ],
      "metadata": {
        "id": "ee6CdnrD4TIG"
      }
    },
    {
      "cell_type": "code",
      "source": [
        "# -*- coding: utf-8 -*-\n",
        "\n",
        "# 1. FOR Loop dengan range()\n",
        "print(\"1) FOR loop dengan range()\")\n",
        "for i in range(5):\n",
        "    print(\"Perulangan ke-\", i)\n",
        "# range(5) menghasilkan nilai 0, 1, 2, 3, dan 4\n",
        "# Sehingga perulangan akan berjalan sebanyak 5 kali\n",
        "print()  # pemisah output"
      ],
      "metadata": {
        "id": "LZ4z3Dwa4kUV",
        "outputId": "35a055e2-f7dd-4628-8084-4edde6a61f7e",
        "colab": {
          "base_uri": "https://localhost:8080/"
        }
      },
      "execution_count": 66,
      "outputs": [
        {
          "output_type": "stream",
          "name": "stdout",
          "text": [
            "1) FOR loop dengan range()\n",
            "Perulangan ke- 0\n",
            "Perulangan ke- 1\n",
            "Perulangan ke- 2\n",
            "Perulangan ke- 3\n",
            "Perulangan ke- 4\n",
            "\n"
          ]
        }
      ]
    },
    {
      "cell_type": "code",
      "source": [
        "# 2. FOR Loop untuk mengiterasi List\n",
        "print(\"2) FOR loop mengiterasi list\")\n",
        "buah = [\"apel\", \"mangga\", \"jeruk\", \"pisang\"]\n",
        "for item in buah:\n",
        "    print(\"Buah:\", item)\n",
        "# Loop akan mengeksekusi setiap elemen dalam list \"buah\"\n",
        "\n",
        "print()"
      ],
      "metadata": {
        "id": "r1aFT9At5BFr",
        "outputId": "a1d2a88a-96d0-4213-d4cc-8b914aaa8f69",
        "colab": {
          "base_uri": "https://localhost:8080/"
        }
      },
      "execution_count": 67,
      "outputs": [
        {
          "output_type": "stream",
          "name": "stdout",
          "text": [
            "2) FOR loop mengiterasi list\n",
            "Buah: apel\n",
            "Buah: mangga\n",
            "Buah: jeruk\n",
            "Buah: pisang\n",
            "\n"
          ]
        }
      ]
    },
    {
      "cell_type": "code",
      "source": [
        "# 3. WHILE Loop\n",
        "print(\"3) WHILE loop sederhana\")\n",
        "count = 0\n",
        "while count < 5:\n",
        "    print(\"count =\", count)\n",
        "    count += 1  # increment\n",
        "# Perulangan while terus dijalankan selama kondisi (count < 5) bernilai True\n",
        "\n",
        "print()"
      ],
      "metadata": {
        "id": "vGhH1brX6iH-",
        "outputId": "95096032-c508-4ee8-d0aa-8ce37fecf8b6",
        "colab": {
          "base_uri": "https://localhost:8080/"
        }
      },
      "execution_count": 68,
      "outputs": [
        {
          "output_type": "stream",
          "name": "stdout",
          "text": [
            "3) WHILE loop sederhana\n",
            "count = 0\n",
            "count = 1\n",
            "count = 2\n",
            "count = 3\n",
            "count = 4\n",
            "\n"
          ]
        }
      ]
    },
    {
      "cell_type": "code",
      "source": [
        "# 4. BREAK pada Loop\n",
        "print(\"4) BREAK di dalam loop\")\n",
        "for i in range(10):\n",
        "    if i == 3:\n",
        "        print(\"Loop dihentikan pada i =\", i)\n",
        "        break  # mengakhiri loop saat i = 3\n",
        "    print(\"i =\", i)\n",
        "# Keyword break langsung menghentikan keseluruhan perulangan\n",
        "\n",
        "print()"
      ],
      "metadata": {
        "id": "y8WDFi1R6nuk",
        "outputId": "d110c7f5-36a1-4474-cc63-5bd403cb9a9a",
        "colab": {
          "base_uri": "https://localhost:8080/"
        }
      },
      "execution_count": 69,
      "outputs": [
        {
          "output_type": "stream",
          "name": "stdout",
          "text": [
            "4) BREAK di dalam loop\n",
            "i = 0\n",
            "i = 1\n",
            "i = 2\n",
            "Loop dihentikan pada i = 3\n",
            "\n"
          ]
        }
      ]
    },
    {
      "cell_type": "code",
      "source": [
        "# 5. CONTINUE pada Loop\n",
        "print(\"5) CONTINUE di dalam loop\")\n",
        "for i in range(5):\n",
        "    if i == 2:\n",
        "        print(\"Lewati i =\", i, \"dengan continue\")\n",
        "        continue  # melewati iterasi saat ini dan lanjut ke iterasi berikutnya\n",
        "    print(\"i =\", i)\n",
        "# Saat i = 2, baris print(\"i =\", i) tidak akan dieksekusi\n",
        "\n",
        "print()"
      ],
      "metadata": {
        "id": "6e3O7SKc6wE6",
        "outputId": "94885f4d-2025-421e-af61-dcbbde429fcc",
        "colab": {
          "base_uri": "https://localhost:8080/"
        }
      },
      "execution_count": 70,
      "outputs": [
        {
          "output_type": "stream",
          "name": "stdout",
          "text": [
            "5) CONTINUE di dalam loop\n",
            "i = 0\n",
            "i = 1\n",
            "Lewati i = 2 dengan continue\n",
            "i = 3\n",
            "i = 4\n",
            "\n"
          ]
        }
      ]
    },
    {
      "cell_type": "code",
      "source": [
        "# 6. NESTED Loop (Loop Bersarang)\n",
        "print(\"6) NESTED loop\")\n",
        "for i in range(3):            # Loop luar (outer loop)\n",
        "    for j in range(2):        # Loop dalam (inner loop)\n",
        "        print(f\"i={i}, j={j}\")\n",
        "# Pada setiap iterasi i, loop j akan berjalan dari 0 sampai 1\n",
        "\n",
        "print()"
      ],
      "metadata": {
        "id": "6cA-az3s6xsm",
        "outputId": "4c8d34a8-0d95-4c13-a72e-7c87fb710eff",
        "colab": {
          "base_uri": "https://localhost:8080/"
        }
      },
      "execution_count": 71,
      "outputs": [
        {
          "output_type": "stream",
          "name": "stdout",
          "text": [
            "6) NESTED loop\n",
            "i=0, j=0\n",
            "i=0, j=1\n",
            "i=1, j=0\n",
            "i=1, j=1\n",
            "i=2, j=0\n",
            "i=2, j=1\n",
            "\n"
          ]
        }
      ]
    },
    {
      "cell_type": "code",
      "source": [
        "# 7. Memanfaatkan ELSE pada Loop\n",
        "print(\"7) ELSE pada loop for/while\")\n",
        "# Python memiliki fitur unik: blok else pada loop\n",
        "# Blok else akan dieksekusi jika loop selesai tanpa di-break.\n",
        "\n",
        "for x in range(3):\n",
        "    print(\"x =\", x)\n",
        "else:\n",
        "    print(\"Loop for telah selesai tanpa break.\\n\")\n",
        "\n",
        "y = 0\n",
        "while y < 3:\n",
        "    print(\"y =\", y)\n",
        "    y += 1\n",
        "else:\n",
        "    print(\"Loop while telah selesai tanpa break.\\n\")"
      ],
      "metadata": {
        "id": "lyWcl6gV60_l",
        "outputId": "0fb7426f-ef15-4286-ac28-3ddd8f222155",
        "colab": {
          "base_uri": "https://localhost:8080/"
        }
      },
      "execution_count": 72,
      "outputs": [
        {
          "output_type": "stream",
          "name": "stdout",
          "text": [
            "7) ELSE pada loop for/while\n",
            "x = 0\n",
            "x = 1\n",
            "x = 2\n",
            "Loop for telah selesai tanpa break.\n",
            "\n",
            "y = 0\n",
            "y = 1\n",
            "y = 2\n",
            "Loop while telah selesai tanpa break.\n",
            "\n"
          ]
        }
      ]
    },
    {
      "cell_type": "code",
      "source": [
        "# 8. PASS sebagai placeholder\n",
        "print(\"8) PASS (placeholder)\")\n",
        "for i in range(3):\n",
        "    if i == 1:\n",
        "        pass  # pass tidak melakukan apa-apa, digunakan sebagai placeholder\n",
        "    print(\"i =\", i)"
      ],
      "metadata": {
        "id": "Tzk4Ves167K-",
        "outputId": "7877a67f-4ab6-46d2-db2b-89219176f5b7",
        "colab": {
          "base_uri": "https://localhost:8080/"
        }
      },
      "execution_count": 74,
      "outputs": [
        {
          "output_type": "stream",
          "name": "stdout",
          "text": [
            "8) PASS (placeholder)\n",
            "i = 0\n",
            "i = 1\n",
            "i = 2\n"
          ]
        }
      ]
    }
  ]
}