{
  "nbformat": 4,
  "nbformat_minor": 0,
  "metadata": {
    "colab": {
      "provenance": [],
      "name": "program menghitung BMI .ipynb",
      "authorship_tag": "ABX9TyOQYJjpiWy+oXrHwR8lctsC",
      "include_colab_link": true
    },
    "kernelspec": {
      "name": "python3",
      "display_name": "Python 3"
    },
    "language_info": {
      "name": "python"
    }
  },
  "cells": [
    {
      "cell_type": "markdown",
      "metadata": {
        "id": "view-in-github",
        "colab_type": "text"
      },
      "source": [
        "<a href=\"https://colab.research.google.com/github/izza1224/2025_PBO_TI-1C/blob/main/program_menghitung_BMI_.ipynb\" target=\"_parent\"><img src=\"https://colab.research.google.com/assets/colab-badge.svg\" alt=\"Open In Colab\"/></a>"
      ]
    },
    {
      "cell_type": "code",
      "source": [
        "import os\n",
        "\n",
        "while True:\n",
        "    os.system(\"clear\")  # Gunakan \"cls\" jika di Windows, \"clear\" jika di Colab/Linux\n",
        "    print(\"===== Program Penghitung Indeks Massa Tubuh =====\")\n",
        "\n",
        "    while True:\n",
        "        try:\n",
        "            berat = float(input(\"Masukkan berat badan Anda (kg): \"))\n",
        "            tinggi = float(input(\"Masukkan tinggi badan Anda (meter): \"))\n",
        "            break\n",
        "        except ValueError:\n",
        "            print(\"Input tidak valid, harap masukkan angka yang benar!\")\n",
        "\n",
        "    bmi = berat / (tinggi ** 2)\n",
        "    print(f\"\\nIndeks Massa Tubuh (BMI) Anda: {bmi:.2f}\")\n",
        "\n",
        "    if bmi < 18.5:\n",
        "        print(\"Kategori: Berat badan kurang (Underweight)\")\n",
        "    elif 18.5 <= bmi < 25:\n",
        "        print(\"Kategori: Berat badan ideal\")\n",
        "    elif 25 <= bmi < 30:\n",
        "        print(\"Kategori: Berat badan berlebih (Overweight)\")\n",
        "    else:\n",
        "        print(\"Kategori: Obesitas\")\n",
        "\n",
        "    while True:\n",
        "        keluar = input(\"Apakah Anda ingin keluar dari program? (Y/N): \").strip().lower()\n",
        "        if keluar in [\"y\", \"n\"]:\n",
        "            break\n",
        "        print(\"Input tidak valid! Silakan masukkan 'Y' untuk keluar atau 'N' untuk melanjutkan.\")\n",
        "\n",
        "    if keluar == \"y\":\n",
        "        break\n",
        "\n",
        "print(\"===== Terima kasih telah menggunakan program ini! =====\")\n",
        "\n"
      ],
      "metadata": {
        "colab": {
          "base_uri": "https://localhost:8080/"
        },
        "id": "xOokiKY0W9hi",
        "outputId": "098d559e-9ff4-45b2-9d00-37e39461af91"
      },
      "execution_count": null,
      "outputs": [
        {
          "output_type": "stream",
          "name": "stdout",
          "text": [
            "===== Program Penghitung Indeks Massa Tubuh =====\n",
            "Masukkan berat badan Anda (kg): 64\n",
            "Masukkan tinggi badan Anda (meter): 1.68\n",
            "\n",
            "Indeks Massa Tubuh (BMI) Anda: 22.68\n",
            "Kategori: Berat badan ideal\n",
            "Apakah Anda ingin keluar dari program? (Y/N): n\n",
            "===== Program Penghitung Indeks Massa Tubuh =====\n",
            "Masukkan berat badan Anda (kg): 70\n",
            "Masukkan tinggi badan Anda (meter): 1.78\n",
            "\n",
            "Indeks Massa Tubuh (BMI) Anda: 22.09\n",
            "Kategori: Berat badan ideal\n",
            "Apakah Anda ingin keluar dari program? (Y/N): n\n",
            "===== Program Penghitung Indeks Massa Tubuh =====\n",
            "Masukkan berat badan Anda (kg): 80\n",
            "Masukkan tinggi badan Anda (meter): 1.71\n",
            "\n",
            "Indeks Massa Tubuh (BMI) Anda: 27.36\n",
            "Kategori: Berat badan berlebih (Overweight)\n",
            "Apakah Anda ingin keluar dari program? (Y/N): n\n",
            "===== Program Penghitung Indeks Massa Tubuh =====\n",
            "Masukkan berat badan Anda (kg): 90\n",
            "Masukkan tinggi badan Anda (meter): 1.74\n",
            "\n",
            "Indeks Massa Tubuh (BMI) Anda: 29.73\n",
            "Kategori: Berat badan berlebih (Overweight)\n",
            "Apakah Anda ingin keluar dari program? (Y/N): 100\n",
            "Input tidak valid! Silakan masukkan 'Y' untuk keluar atau 'N' untuk melanjutkan.\n",
            "Apakah Anda ingin keluar dari program? (Y/N): n\n",
            "===== Program Penghitung Indeks Massa Tubuh =====\n",
            "Masukkan berat badan Anda (kg): 100\n",
            "Masukkan tinggi badan Anda (meter): 1.72\n",
            "\n",
            "Indeks Massa Tubuh (BMI) Anda: 33.80\n",
            "Kategori: Obesitas\n",
            "Apakah Anda ingin keluar dari program? (Y/N): n\n",
            "===== Program Penghitung Indeks Massa Tubuh =====\n",
            "Masukkan berat badan Anda (kg): 40\n",
            "Masukkan tinggi badan Anda (meter): 1.68\n",
            "\n",
            "Indeks Massa Tubuh (BMI) Anda: 14.17\n",
            "Kategori: Berat badan kurang (Underweight)\n",
            "Apakah Anda ingin keluar dari program? (Y/N): n\n",
            "===== Program Penghitung Indeks Massa Tubuh =====\n",
            "Masukkan berat badan Anda (kg): 40\n",
            "Masukkan tinggi badan Anda (meter): 1.75\n",
            "\n",
            "Indeks Massa Tubuh (BMI) Anda: 13.06\n",
            "Kategori: Berat badan kurang (Underweight)\n"
          ]
        }
      ]
    }
  ]
}