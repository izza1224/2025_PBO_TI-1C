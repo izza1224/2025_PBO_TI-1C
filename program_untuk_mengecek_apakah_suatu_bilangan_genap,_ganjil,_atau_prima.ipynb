{
  "nbformat": 4,
  "nbformat_minor": 0,
  "metadata": {
    "colab": {
      "provenance": [],
      "name": "program untuk mengecek apakah suatu bilangan genap, ganjil, atau prima.ipynb",
      "authorship_tag": "ABX9TyMViQzR7QuBMu2JgbAXrl1r",
      "include_colab_link": true
    },
    "kernelspec": {
      "name": "python3",
      "display_name": "Python 3"
    },
    "language_info": {
      "name": "python"
    }
  },
  "cells": [
    {
      "cell_type": "markdown",
      "metadata": {
        "id": "view-in-github",
        "colab_type": "text"
      },
      "source": [
        "<a href=\"https://colab.research.google.com/github/izza1224/2025_PBO_TI-1C/blob/main/program_untuk_mengecek_apakah_suatu_bilangan_genap%2C_ganjil%2C_atau_prima.ipynb\" target=\"_parent\"><img src=\"https://colab.research.google.com/assets/colab-badge.svg\" alt=\"Open In Colab\"/></a>"
      ]
    },
    {
      "cell_type": "code",
      "execution_count": null,
      "metadata": {
        "id": "h0ROzLHefuik"
      },
      "outputs": [],
      "source": [
        "import os\n",
        "\n",
        "def isPrime(angka):\n",
        "    if angka <= 1:\n",
        "        return False\n",
        "    for i in range(2, int(angka**0.5) + 1):  # Cek dari 2 sampai akar kuadrat dari angka\n",
        "        if angka % i == 0:\n",
        "            return False\n",
        "    return True\n",
        "\n",
        "while True:\n",
        "    os.system(\"clear\")  # Gunakan \"cls\" jika di Windows, \"clear\" jika di Colab/Linux\n",
        "    print(\"===== Program Bilangan =====\")\n",
        "\n",
        "    while True:\n",
        "        try:\n",
        "            angka = int(input(\"Silahkan Masukkan Bilangan Bulat Yang Ingin Diperiksa : \"))\n",
        "            break\n",
        "        except ValueError:\n",
        "            print(\"Input Tidak Valid, Silahkan Masukkan Bilangan Bulat\")\n",
        "\n",
        "    # Memeriksa ganjil genap\n",
        "    if angka % 2 == 0:\n",
        "        print(f\"\\nAngka {angka} adalah bilangan Genap\")\n",
        "    else:\n",
        "        print(f\"\\nAngka {angka} adalah bilangan Ganjil\")\n",
        "\n",
        "    # Memeriksa Bilangan Prima\n",
        "    if isPrime(angka):\n",
        "        print(f\"Angka {angka} adalah bilangan Prima\")\n",
        "    else:\n",
        "        print(f\"Angka {angka} BUKAN bilangan Prima\")\n",
        "\n",
        "    keluar = input(\"Apakah Anda Ingin Keluar (Y/N) : \")\n",
        "    if keluar.lower() == \"y\":\n",
        "        break\n",
        "\n",
        "print(\"===== Terimakasih =====\")"
      ]
    }
  ]
}